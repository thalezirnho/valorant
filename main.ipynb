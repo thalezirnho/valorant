{
 "cells": [
  {
   "cell_type": "markdown",
   "id": "c665a7be-a3f9-407f-8bf2-f9ad679d2b89",
   "metadata": {},
   "source": [
    "# Main"
   ]
  },
  {
   "cell_type": "code",
   "execution_count": 1,
   "id": "0e40465a-1993-412c-a808-1268e9463cbc",
   "metadata": {},
   "outputs": [],
   "source": [
    "import os\n",
    "import json\n",
    "import time\n",
    "import requests\n",
    "import pandas as pd\n",
    "\n",
    "from datetime import datetime"
   ]
  },
  {
   "cell_type": "code",
   "execution_count": 33,
   "id": "c9dec2e4-2ad6-412c-b9bc-147b8de90d39",
   "metadata": {},
   "outputs": [],
   "source": [
    "# Temporary setup\n",
    "pd.set_option('display.max_columns', 100)"
   ]
  },
  {
   "cell_type": "code",
   "execution_count": 2,
   "id": "94ff6ec5-aaa6-4b2b-9acc-e14e4d3c28c4",
   "metadata": {},
   "outputs": [],
   "source": [
    "date_time = datetime.now()\n",
    "                    \n",
    "if time.tzname[0] == 'UTC':\n",
    "    date_time = date_time - timedelta(hours=3)"
   ]
  },
  {
   "cell_type": "code",
   "execution_count": 3,
   "id": "98c4c5e9-71cb-4a86-82dc-832b193a95eb",
   "metadata": {},
   "outputs": [],
   "source": [
    "datetime = date_time.strftime(\"%Y%m%dT%H:%M:%S\")"
   ]
  },
  {
   "cell_type": "code",
   "execution_count": 4,
   "id": "2f97c763-90cb-4871-900e-3fd945e2ca4c",
   "metadata": {},
   "outputs": [],
   "source": [
    "timestamp = int(date_time.timestamp())"
   ]
  },
  {
   "cell_type": "code",
   "execution_count": 5,
   "id": "df583c0d-d085-46b7-9c17-73d701ad9e5c",
   "metadata": {},
   "outputs": [],
   "source": [
    "formated_datetime = date_time.strftime(\"%Y%m%d_%Hh%Mm%Ss\")"
   ]
  },
  {
   "cell_type": "code",
   "execution_count": 6,
   "id": "276455b2-44a1-4868-b27c-1e3664dea35c",
   "metadata": {},
   "outputs": [],
   "source": [
    "users = {\n",
    "    \"viikset\": \"BR1\",\n",
    "    \"TADALA\": \"TADAL\",\n",
    "    \"DIGAOTJS\": \"BR1\",\n",
    "    \"mBirth\": \"BR1\",\n",
    "    \"Kubata\": \"4881\"\n",
    "}"
   ]
  },
  {
   "cell_type": "code",
   "execution_count": 7,
   "id": "d44d6a0a-0a95-4e0e-908c-afb91f3b925a",
   "metadata": {},
   "outputs": [],
   "source": [
    "puuids = {\n",
    "    \"viikset\": \"f2f7c867-27ba-5291-a23c-bbdcfc079e76\",\n",
    "    \"TADALA\": \"35a2368e-586f-53ec-8ee8-ea9ebdca7d6f\",\n",
    "    \"DIGAOTJS\": \"2c51a2e4-0dcf-53f5-ae85-cd4d7d79f663\",\n",
    "    \"mBirth\": \"6c241ab0-1c2f-5d5b-8908-4e809df8f6ca\",\n",
    "    \"Kubata\": \"b2310858-1741-5d6f-8499-cb1f85bd182a\"\n",
    "}"
   ]
  },
  {
   "cell_type": "markdown",
   "id": "737cb836-e66d-4051-8aa0-b0b95e2979c4",
   "metadata": {
    "tags": []
   },
   "source": [
    "## Get Account Data"
   ]
  },
  {
   "cell_type": "code",
   "execution_count": 8,
   "id": "3f28081b-bd19-4734-a63f-7bfcbeeb3a80",
   "metadata": {},
   "outputs": [
    {
     "name": "stdout",
     "output_type": "stream",
     "text": [
      "Get data for viikset...\n",
      "Get account data for viikset...\n",
      "Get MMR data for viikset...\n",
      "Get MMR History data for viikset...\n",
      "Get Match History data for viikset...\n",
      "\n",
      "\n",
      "Get data for TADALA...\n",
      "Get account data for TADALA...\n",
      "Get MMR data for TADALA...\n",
      "Get MMR History data for TADALA...\n",
      "Get Match History data for TADALA...\n",
      "\n",
      "\n",
      "Get data for DIGAOTJS...\n",
      "Get account data for DIGAOTJS...\n",
      "Get MMR data for DIGAOTJS...\n",
      "Get MMR History data for DIGAOTJS...\n",
      "Get Match History data for DIGAOTJS...\n",
      "\n",
      "\n",
      "Get data for mBirth...\n",
      "Get account data for mBirth...\n",
      "Get MMR data for mBirth...\n",
      "Get MMR History data for mBirth...\n",
      "Get Match History data for mBirth...\n",
      "\n",
      "\n",
      "Get data for Kubata...\n",
      "Get account data for Kubata...\n",
      "Get MMR data for Kubata...\n",
      "Get MMR History data for Kubata...\n",
      "Get Match History data for Kubata...\n",
      "\n",
      "\n"
     ]
    }
   ],
   "source": [
    "all_match_ids = []\n",
    "\n",
    "df_account = pd.DataFrame()\n",
    "df_mmr_data = pd.DataFrame()\n",
    "df_mmr_history = pd.DataFrame()\n",
    "df_matchs = pd.DataFrame()\n",
    "\n",
    "\n",
    "for name, tag in users.items():\n",
    "    \n",
    "    print(f'Get data for {name}...')\n",
    "    \n",
    "    # Accounts Data\n",
    "    #print(f'Get account data for {name}...')\n",
    "    response = requests.get(f\"https://api.henrikdev.xyz/valorant/v1/account/{name}/{tag}\")\n",
    "    \n",
    "    with open(f'account/{timestamp}_{name}_{tag}.json', 'w') as f:\n",
    "        json.dump(response.json(), f)\n",
    "        \n",
    "    df_account = pd.concat([df_account, pd.json_normalize(response.json()['data'])])\n",
    "        \n",
    "        \n",
    "    # MMR Data\n",
    "    #print(f'Get MMR data for {name}...')\n",
    "    response = requests.get(f\"https://api.henrikdev.xyz/valorant/v1/mmr/na/{name}/{tag}\")\n",
    "    \n",
    "    with open(f'mmr_data/{timestamp}_{name}_{tag}.json', 'w') as f:\n",
    "        json.dump(response.json(), f)\n",
    "        \n",
    "    df_mmr_data = pd.concat([df_mmr_data, pd.json_normalize(response.json()['data'])])  \n",
    "        \n",
    "    # MMR History\n",
    "    #print(f'Get MMR History data for {name}...')\n",
    "    response = requests.get(f\"https://api.henrikdev.xyz/valorant/v1/mmr-history/na/{name}/{tag}\")\n",
    "    \n",
    "    with open(f'mmr_history/{timestamp}_{name}_{tag}.json', 'w') as f:\n",
    "        json.dump(response.json(), f)\n",
    "        \n",
    "        \n",
    "    temp_mmr_history = pd.json_normalize(response.json()['data'])\n",
    "    temp_mmr_history['name'] = response.json()['name']\n",
    "    temp_mmr_history['tag'] = response.json()['tag']\n",
    "    \n",
    "    df_mmr_history = pd.concat([df_mmr_history, temp_mmr_history])\n",
    "    \n",
    "    # Match History\n",
    "    #print(f'Get Match History data for {name}...')\n",
    "    response = requests.get(f\"https://api.henrikdev.xyz/valorant/v3/matches/na/{name}/{tag}?filter=competitive\")\n",
    "    \n",
    "    with open(f'match_history/{timestamp}_{name}_{tag}.json', 'w') as f:\n",
    "        json.dump(response.json(), f)\n",
    "        \n",
    "    # Listing All Match IDs\n",
    "    metadata = []\n",
    "    for i in response.json()['data']:\n",
    "        all_match_ids.append(i['metadata']['matchid'])\n",
    "        \n",
    "        metadata.append(i['metadata'])\n",
    "        \n",
    "    df_matchs = pd.concat([df_matchs, pd.DataFrame(metadata)])\n",
    "    \n",
    "    print('\\n')\n",
    "\n",
    "df_account['datetime'] = datetime\n",
    "df_mmr_data['datetime'] = datetime"
   ]
  },
  {
   "cell_type": "markdown",
   "id": "dc8cd4e9-04b7-48e4-922a-bc3e4f5b3cf7",
   "metadata": {
    "tags": []
   },
   "source": [
    "# Get All Match History"
   ]
  },
  {
   "cell_type": "code",
   "execution_count": 9,
   "id": "4d0a0d8f-111b-47ab-b9df-183daf68c30b",
   "metadata": {},
   "outputs": [],
   "source": [
    "all_match_ids = list(set(all_match_ids))"
   ]
  },
  {
   "cell_type": "code",
   "execution_count": 38,
   "id": "6ce1f110-c485-481a-9a27-e9392691ea54",
   "metadata": {},
   "outputs": [],
   "source": [
    "metadata = []\n",
    "rounds = []\n",
    "kills = []\n",
    "\n",
    "# Players Dataframes\n",
    "session_playtime = pd.DataFrame()\n",
    "behavior = pd.DataFrame()\n",
    "platform = pd.DataFrame()\n",
    "ability_casts = pd.DataFrame()\n",
    "assets = pd.DataFrame()\n",
    "stats = pd.DataFrame()\n",
    "economy = pd.DataFrame()\n",
    "player = pd.DataFrame()\n",
    "\n",
    "\n",
    "df_players = pd.DataFrame()\n",
    "df_teams = pd.DataFrame()\n",
    "\n",
    "for matchid in all_match_ids:\n",
    "    \n",
    "    # Request\n",
    "    response = requests.get(f\"https://api.henrikdev.xyz/valorant/v2/match/{matchid}\")\n",
    "    \n",
    "    # Save file\n",
    "    with open(f'match/{matchid}.json', 'w') as f:\n",
    "        json.dump(response.json(), f)\n",
    "        \n",
    "    match = response.json()['data']\n",
    "        \n",
    "    # Match Metadata    \n",
    "    metadata.append(match['metadata'])\n",
    "    \n",
    "    # Match Players\n",
    "    json_players = match['players']['all_players'].copy()\n",
    "\n",
    "    for player in json_players:\n",
    "\n",
    "        puuid = player['puuid']\n",
    "\n",
    "        temp_session_playtime = player.pop('session_playtime')\n",
    "        temp_session_playtime = pd.json_normalize(temp_session_playtime)\n",
    "        temp_session_playtime['matchid'] = matchid\n",
    "        temp_session_playtime['puuid'] = puuid\n",
    "        session_playtime = pd.concat([session_playtime, temp_session_playtime])\n",
    "\n",
    "        temp_behavior = player.pop('behavior') \n",
    "        temp_behavior = pd.json_normalize(temp_behavior)\n",
    "        temp_behavior['matchid'] = matchid\n",
    "        temp_behavior['puuid'] = puuid\n",
    "        behavior = pd.concat([behavior, temp_behavior])\n",
    "\n",
    "        temp_platform = player.pop('platform')\n",
    "        temp_platform = pd.json_normalize(temp_platform)\n",
    "        temp_platform['matchid'] = matchid\n",
    "        temp_platform['puuid'] = puuid\n",
    "        platform = pd.concat([platform, temp_platform])\n",
    "\n",
    "        temp_ability_casts = player.pop('ability_casts')\n",
    "        temp_ability_casts = pd.json_normalize(temp_ability_casts)\n",
    "        temp_ability_casts['matchid'] = matchid\n",
    "        temp_ability_casts['puuid'] = puuid\n",
    "        ability_casts = pd.concat([ability_casts, temp_ability_casts])\n",
    "        \n",
    "        temp_assets = player.pop('assets')\n",
    "        temp_assets = pd.json_normalize(temp_assets)\n",
    "        temp_assets['matchid'] = matchid\n",
    "        temp_assets['puuid'] = puuid\n",
    "        assets = pd.concat([assets, temp_assets])\n",
    "\n",
    "        temp_stats = player.pop('stats')\n",
    "        temp_stats = pd.json_normalize(statstemp_stats\n",
    "        temp_stats['matchid'] = matchid\n",
    "        temp_stats['puuid'] = puuid\n",
    "        stats = pd.concat([stats, temp_stats])\n",
    "\n",
    "        temp_economy = player.pop('economy')\n",
    "        temp_economy = pd.json_normalize(temp_economy)\n",
    "        temp_economy['matchid'] = matchid\n",
    "        temp_economy['puuid'] = puuid\n",
    "        economy = pd.concat([economy, temp_economy])\n",
    "                                       \n",
    "        temp_player = pd.json_normalize(pltemp_playerayer)\n",
    "        temp_player['matchid'] = matchid\n",
    "        player = pd.concat([player, temp_player])\n",
    "    \n",
    "    # Match Teams\n",
    "    temp_teams = pd.json_normalize(match['teams'])\n",
    "    temp_teams['matchid'] = matchid\n",
    "    df_teams = pd.concat([df_teams, temp_teams])\n",
    "    \n",
    "    \n",
    "    rounds.append(match['rounds'])\n",
    "    \n",
    "    \n",
    "    kills.append(match['kills'])\n",
    "        \n",
    "    #break\n",
    "    \n",
    "df_metadata = pd.DataFrame(metadata)\n"
   ]
  },
  {
   "cell_type": "code",
   "execution_count": 249,
   "id": "3e298cc7-90d9-4504-993a-292ff91310af",
   "metadata": {},
   "outputs": [],
   "source": [
    "match = response.json()['data']\n",
    "\n",
    "json_rounds = match['rounds'].copy()\n",
    "\n",
    "plant_events = pd.DataFrame()\n",
    "\n",
    "count = 1\n",
    "\n",
    "for row_round in json_rounds:\n",
    "    \n",
    "    # Plant Events\n",
    "    plant_events = row_round.pop('plant_events')\n",
    "    player_locations_on_plant = plant_events.pop('player_locations_on_plant')\n",
    "    \n",
    "    plant_events = pd.json_normalize(plant_events)\n",
    "    plant_events['matchid'] = matchid\n",
    "    plant_events['round'] = count\n",
    "    \n",
    "    player_locations_on_plant = pd.json_normalize(player_locations_on_plant)\n",
    "    player_locations_on_plant['matchid'] = matchid\n",
    "    player_locations_on_plant['round'] = count\n",
    "    \n",
    "    # Defuse Events\n",
    "    defuse_events = row_round.pop('defuse_events')\n",
    "    player_locations_on_defuse = defuse_events.pop('player_locations_on_defuse')\n",
    "    \n",
    "    defuse_events = pd.json_normalize(defuse_events)\n",
    "    defuse_events['matchid'] = matchid\n",
    "    defuse_events['round'] = count\n",
    "\n",
    "    player_locations_on_defuse = pd.json_normalize(player_locations_on_defuse)\n",
    "    player_locations_on_defuse['matchid'] = matchid\n",
    "    player_locations_on_defuse['round'] = count\n",
    "    \n",
    "    # Player Stats\n",
    "    player_stats = row_round.pop('player_stats')\n",
    "    \n",
    "    for plyr in player_stats:\n",
    "        \n",
    "    \n",
    "    count += 1\n",
    "    break\n",
    "    \n",
    "    "
   ]
  },
  {
   "cell_type": "code",
   "execution_count": 264,
   "id": "89e928ab-0e34-48ab-adaa-0e33d3295695",
   "metadata": {},
   "outputs": [],
   "source": [
    "for plyr in player_stats:\n",
    "        break"
   ]
  },
  {
   "cell_type": "code",
   "execution_count": 265,
   "id": "5d798070-8d1d-41b8-85e7-929dd2077da9",
   "metadata": {},
   "outputs": [
    {
     "data": {
      "text/plain": [
       "dict_keys(['ability_casts', 'player_puuid', 'player_display_name', 'player_team', 'damage_events', 'damage', 'bodyshots', 'headshots', 'legshots', 'kill_events', 'kills', 'score', 'economy', 'was_afk', 'was_penalized', 'stayed_in_spawn'])"
      ]
     },
     "execution_count": 265,
     "metadata": {},
     "output_type": "execute_result"
    }
   ],
   "source": [
    "plyr.keys()"
   ]
  },
  {
   "cell_type": "code",
   "execution_count": 283,
   "id": "8bd76697-6ca3-4f10-84b7-487a2311129f",
   "metadata": {},
   "outputs": [
    {
     "data": {
      "text/plain": [
       "False"
      ]
     },
     "execution_count": 283,
     "metadata": {},
     "output_type": "execute_result"
    }
   ],
   "source": [
    "plyr['stayed_in_spawn']"
   ]
  },
  {
   "cell_type": "code",
   "execution_count": 284,
   "id": "ace97ee9-c203-4a8f-856e-80485c785481",
   "metadata": {},
   "outputs": [
    {
     "data": {
      "text/html": [
       "<div>\n",
       "<style scoped>\n",
       "    .dataframe tbody tr th:only-of-type {\n",
       "        vertical-align: middle;\n",
       "    }\n",
       "\n",
       "    .dataframe tbody tr th {\n",
       "        vertical-align: top;\n",
       "    }\n",
       "\n",
       "    .dataframe thead th {\n",
       "        text-align: right;\n",
       "    }\n",
       "</style>\n",
       "<table border=\"1\" class=\"dataframe\">\n",
       "  <thead>\n",
       "    <tr style=\"text-align: right;\">\n",
       "      <th></th>\n",
       "      <th>player_puuid</th>\n",
       "      <th>player_display_name</th>\n",
       "      <th>player_team</th>\n",
       "      <th>damage_events</th>\n",
       "      <th>damage</th>\n",
       "      <th>bodyshots</th>\n",
       "      <th>headshots</th>\n",
       "      <th>legshots</th>\n",
       "      <th>kill_events</th>\n",
       "      <th>kills</th>\n",
       "      <th>score</th>\n",
       "      <th>was_afk</th>\n",
       "      <th>was_penalized</th>\n",
       "      <th>stayed_in_spawn</th>\n",
       "      <th>ability_casts.c_casts</th>\n",
       "      <th>ability_casts.q_casts</th>\n",
       "      <th>ability_casts.e_cast</th>\n",
       "      <th>ability_casts.x_cast</th>\n",
       "      <th>economy.loadout_value</th>\n",
       "      <th>economy.weapon.id</th>\n",
       "      <th>economy.weapon.name</th>\n",
       "      <th>economy.weapon.assets.display_icon</th>\n",
       "      <th>economy.weapon.assets.killfeed_icon</th>\n",
       "      <th>economy.armor.id</th>\n",
       "      <th>economy.armor.name</th>\n",
       "      <th>economy.armor.assets.display_icon</th>\n",
       "      <th>economy.remaining</th>\n",
       "      <th>economy.spent</th>\n",
       "    </tr>\n",
       "  </thead>\n",
       "  <tbody>\n",
       "    <tr>\n",
       "      <th>0</th>\n",
       "      <td>35a2368e-586f-53ec-8ee8-ea9ebdca7d6f</td>\n",
       "      <td>TADALA#TADAL</td>\n",
       "      <td>Red</td>\n",
       "      <td>[{'receiver_puuid': '9262f939-87a5-5974-9478-4...</td>\n",
       "      <td>30</td>\n",
       "      <td>1</td>\n",
       "      <td>0</td>\n",
       "      <td>0</td>\n",
       "      <td>[]</td>\n",
       "      <td>0</td>\n",
       "      <td>55</td>\n",
       "      <td>False</td>\n",
       "      <td>False</td>\n",
       "      <td>False</td>\n",
       "      <td>None</td>\n",
       "      <td>None</td>\n",
       "      <td>None</td>\n",
       "      <td>None</td>\n",
       "      <td>800</td>\n",
       "      <td>1BAA85B4-4C70-1284-64BB-6481DFC3BB4E</td>\n",
       "      <td>Ghost</td>\n",
       "      <td>https://media.valorant-api.com/weapons/1baa85b...</td>\n",
       "      <td>https://media.valorant-api.com/weapons/1baa85b...</td>\n",
       "      <td>None</td>\n",
       "      <td>None</td>\n",
       "      <td>None</td>\n",
       "      <td>0</td>\n",
       "      <td>800</td>\n",
       "    </tr>\n",
       "  </tbody>\n",
       "</table>\n",
       "</div>"
      ],
      "text/plain": [
       "                           player_puuid player_display_name player_team  \\\n",
       "0  35a2368e-586f-53ec-8ee8-ea9ebdca7d6f        TADALA#TADAL         Red   \n",
       "\n",
       "                                       damage_events  damage  bodyshots  \\\n",
       "0  [{'receiver_puuid': '9262f939-87a5-5974-9478-4...      30          1   \n",
       "\n",
       "   headshots  legshots kill_events  kills  score  was_afk  was_penalized  \\\n",
       "0          0         0          []      0     55    False          False   \n",
       "\n",
       "   stayed_in_spawn ability_casts.c_casts ability_casts.q_casts  \\\n",
       "0            False                  None                  None   \n",
       "\n",
       "  ability_casts.e_cast ability_casts.x_cast  economy.loadout_value  \\\n",
       "0                 None                 None                    800   \n",
       "\n",
       "                      economy.weapon.id economy.weapon.name  \\\n",
       "0  1BAA85B4-4C70-1284-64BB-6481DFC3BB4E               Ghost   \n",
       "\n",
       "                  economy.weapon.assets.display_icon  \\\n",
       "0  https://media.valorant-api.com/weapons/1baa85b...   \n",
       "\n",
       "                 economy.weapon.assets.killfeed_icon economy.armor.id  \\\n",
       "0  https://media.valorant-api.com/weapons/1baa85b...             None   \n",
       "\n",
       "  economy.armor.name economy.armor.assets.display_icon  economy.remaining  \\\n",
       "0               None                              None                  0   \n",
       "\n",
       "   economy.spent  \n",
       "0            800  "
      ]
     },
     "execution_count": 284,
     "metadata": {},
     "output_type": "execute_result"
    }
   ],
   "source": [
    "pd.json_normalize(plyr)"
   ]
  },
  {
   "cell_type": "code",
   "execution_count": null,
   "id": "5aaf8648-3166-4c10-84a3-4bd5e6293a21",
   "metadata": {},
   "outputs": [],
   "source": []
  },
  {
   "cell_type": "code",
   "execution_count": null,
   "id": "34eee6f2-4c39-4948-8145-55dd0ba152e0",
   "metadata": {},
   "outputs": [],
   "source": []
  },
  {
   "cell_type": "code",
   "execution_count": null,
   "id": "b7e2c788-3487-4a63-822b-19fe47f7879d",
   "metadata": {},
   "outputs": [],
   "source": []
  },
  {
   "cell_type": "code",
   "execution_count": null,
   "id": "ae671087-9ca0-41cd-8d90-1e59cbba82ac",
   "metadata": {},
   "outputs": [],
   "source": []
  },
  {
   "cell_type": "code",
   "execution_count": null,
   "id": "02051dd1-b3e6-4499-9c0f-cc2b280c1941",
   "metadata": {},
   "outputs": [],
   "source": []
  },
  {
   "cell_type": "code",
   "execution_count": null,
   "id": "f26f8057-7ef6-44fc-bf28-980ae9deae8e",
   "metadata": {},
   "outputs": [],
   "source": []
  },
  {
   "cell_type": "code",
   "execution_count": null,
   "id": "dcd7e090-6596-4bdf-b2a7-493c619b9cfd",
   "metadata": {},
   "outputs": [],
   "source": []
  },
  {
   "cell_type": "code",
   "execution_count": null,
   "id": "8e00b9a3-7594-4765-a367-350a3aa3d906",
   "metadata": {},
   "outputs": [],
   "source": []
  },
  {
   "cell_type": "code",
   "execution_count": null,
   "id": "c4dc7bf5-9edf-4b1a-ae7f-dbcfa8057b16",
   "metadata": {},
   "outputs": [],
   "source": []
  },
  {
   "cell_type": "code",
   "execution_count": null,
   "id": "91f8a83a-86a7-4fed-8fe7-32361871d87c",
   "metadata": {},
   "outputs": [],
   "source": []
  },
  {
   "cell_type": "code",
   "execution_count": null,
   "id": "781e16cb-b3de-4f73-abaf-2b87b0484303",
   "metadata": {},
   "outputs": [],
   "source": []
  },
  {
   "cell_type": "code",
   "execution_count": null,
   "id": "ee5818de-90c1-4867-81cc-9f811ad8339e",
   "metadata": {},
   "outputs": [],
   "source": []
  },
  {
   "cell_type": "code",
   "execution_count": null,
   "id": "93f8e61c-5801-406e-b3d2-6b46c04d1be8",
   "metadata": {},
   "outputs": [],
   "source": []
  }
 ],
 "metadata": {
  "kernelspec": {
   "display_name": "Python 3 (ipykernel)",
   "language": "python",
   "name": "python3"
  },
  "language_info": {
   "codemirror_mode": {
    "name": "ipython",
    "version": 3
   },
   "file_extension": ".py",
   "mimetype": "text/x-python",
   "name": "python",
   "nbconvert_exporter": "python",
   "pygments_lexer": "ipython3",
   "version": "3.9.13"
  }
 },
 "nbformat": 4,
 "nbformat_minor": 5
}
