{
 "cells": [
  {
   "cell_type": "code",
   "execution_count": null,
   "id": "36e045a5-f42a-4f93-b1d4-f938d821720a",
   "metadata": {},
   "outputs": [],
   "source": [
    "!pip install valorant"
   ]
  },
  {
   "cell_type": "code",
   "execution_count": null,
   "id": "6e927804-34f2-42d7-b1a3-d0169cf1c587",
   "metadata": {},
   "outputs": [],
   "source": [
    "import os\n",
    "import valorant"
   ]
  },
  {
   "cell_type": "code",
   "execution_count": null,
   "id": "ae2095ed-16b9-44cd-8694-b2ea6bf62611",
   "metadata": {},
   "outputs": [],
   "source": [
    "os.environ[\"VALPY-KEY\"] = \"RGAPI-88d6f215-b22d-4c82-ba97-d73924fc6db4\""
   ]
  },
  {
   "cell_type": "code",
   "execution_count": null,
   "id": "6dd10d2e-7953-40ed-af18-bce0b9f31aee",
   "metadata": {},
   "outputs": [],
   "source": [
    "KEY = os.environ[\"VALPY-KEY\"]\n",
    "client = valorant.Client(KEY, locale=None)"
   ]
  },
  {
   "cell_type": "code",
   "execution_count": null,
   "id": "363a635b-4883-4a83-95d9-4486390ae2e2",
   "metadata": {},
   "outputs": [],
   "source": [
    "client.get_user_by_name(name=\"viikset#BR1\", route=\"americas\")"
   ]
  },
  {
   "cell_type": "code",
   "execution_count": null,
   "id": "42b1631e-c931-4a30-a2f8-af237f8e81a4",
   "metadata": {},
   "outputs": [],
   "source": [
    "client.get_match(id=\"c229a683-a205-4543-a174-522956e8b72d\")"
   ]
  },
  {
   "cell_type": "code",
   "execution_count": null,
   "id": "11201986-b595-4968-a1c3-910b3088bf4c",
   "metadata": {},
   "outputs": [],
   "source": [
    "client.get_session()"
   ]
  },
  {
   "cell_type": "code",
   "execution_count": null,
   "id": "100a3cf1-ff85-497b-ad8b-0a06d8bcec29",
   "metadata": {},
   "outputs": [],
   "source": [
    "token = 'RGAPI-68e255f5-6d59-4152-b84b-35f67be5e3fe'"
   ]
  },
  {
   "cell_type": "code",
   "execution_count": null,
   "id": "2b629024-c201-4a1d-87f8-1b6f2f71422e",
   "metadata": {},
   "outputs": [],
   "source": [
    "puuid = 'puuid=t6hgE7vM78zeB7VZqIF9BV4VC3xqSFyBQ_QaAK_l2xRSfxTqaTmh0Adqwc7V7QamAPszSWlTyDf2lg'"
   ]
  },
  {
   "cell_type": "code",
   "execution_count": null,
   "id": "5d865274-2a5f-408a-8780-c93d4531830d",
   "metadata": {},
   "outputs": [],
   "source": [
    "import requests\n",
    "response = requests.get('https://br.api.riotgames.com/lol/summoner/v4/summoners/by-name/viikset', headers={'Authorization': f'Bearer token {token}'})"
   ]
  },
  {
   "cell_type": "code",
   "execution_count": null,
   "id": "05c38adc-9c4e-46e9-a554-3840d4236e3c",
   "metadata": {},
   "outputs": [],
   "source": [
    "response.json()"
   ]
  },
  {
   "cell_type": "code",
   "execution_count": null,
   "id": "cd831dbf-c6f3-4748-8961-728fe701a604",
   "metadata": {},
   "outputs": [],
   "source": []
  },
  {
   "cell_type": "code",
   "execution_count": null,
   "id": "f7984ad7-2e0f-4e07-a293-5cc49e9c1af6",
   "metadata": {},
   "outputs": [],
   "source": []
  },
  {
   "cell_type": "code",
   "execution_count": null,
   "id": "8705652d-24a9-410f-8331-780e310b8899",
   "metadata": {},
   "outputs": [],
   "source": []
  },
  {
   "cell_type": "code",
   "execution_count": null,
   "id": "c1b07275-caff-4dbb-8038-0fac81ac1fd5",
   "metadata": {},
   "outputs": [],
   "source": []
  },
  {
   "cell_type": "markdown",
   "id": "c665a7be-a3f9-407f-8bf2-f9ad679d2b89",
   "metadata": {},
   "source": [
    "# Main"
   ]
  },
  {
   "cell_type": "code",
   "execution_count": 34,
   "id": "0e40465a-1993-412c-a808-1268e9463cbc",
   "metadata": {},
   "outputs": [],
   "source": [
    "import os\n",
    "import json\n",
    "import time\n",
    "import requests\n",
    "import pandas as pd\n",
    "\n",
    "from datetime import datetime"
   ]
  },
  {
   "cell_type": "code",
   "execution_count": 2,
   "id": "94ff6ec5-aaa6-4b2b-9acc-e14e4d3c28c4",
   "metadata": {},
   "outputs": [],
   "source": [
    "date_time = datetime.now()\n",
    "                    \n",
    "if time.tzname[0] == 'UTC':\n",
    "    date_time = date_time - timedelta(hours=3)"
   ]
  },
  {
   "cell_type": "code",
   "execution_count": 89,
   "id": "98c4c5e9-71cb-4a86-82dc-832b193a95eb",
   "metadata": {},
   "outputs": [],
   "source": [
    "datetime = date_time.strftime(\"%Y%m%dT%H:%M:%S\")"
   ]
  },
  {
   "cell_type": "code",
   "execution_count": 73,
   "id": "2f97c763-90cb-4871-900e-3fd945e2ca4c",
   "metadata": {},
   "outputs": [],
   "source": [
    "timestamp = int(date_time.timestamp())"
   ]
  },
  {
   "cell_type": "code",
   "execution_count": 19,
   "id": "df583c0d-d085-46b7-9c17-73d701ad9e5c",
   "metadata": {},
   "outputs": [],
   "source": [
    "formated_datetime = date_time.strftime(\"%Y%m%d_%Hh%Mm%Ss\")"
   ]
  },
  {
   "cell_type": "code",
   "execution_count": 4,
   "id": "276455b2-44a1-4868-b27c-1e3664dea35c",
   "metadata": {},
   "outputs": [],
   "source": [
    "users = {\n",
    "    \"viikset\": \"BR1\",\n",
    "    \"TADALA\": \"TADAL\",\n",
    "    \"DIGAOTJS\": \"BR1\",\n",
    "    \"mBirth\": \"BR1\",\n",
    "    \"Kubata\": \"4881\"\n",
    "}"
   ]
  },
  {
   "cell_type": "code",
   "execution_count": 5,
   "id": "d44d6a0a-0a95-4e0e-908c-afb91f3b925a",
   "metadata": {},
   "outputs": [],
   "source": [
    "puuids = {\n",
    "    \"viikset\": \"f2f7c867-27ba-5291-a23c-bbdcfc079e76\",\n",
    "    \"TADALA\": \"35a2368e-586f-53ec-8ee8-ea9ebdca7d6f\",\n",
    "    \"DIGAOTJS\": \"2c51a2e4-0dcf-53f5-ae85-cd4d7d79f663\",\n",
    "    \"mBirth\": \"6c241ab0-1c2f-5d5b-8908-4e809df8f6ca\",\n",
    "    \"Kubata\": \"b2310858-1741-5d6f-8499-cb1f85bd182a\"\n",
    "}"
   ]
  },
  {
   "cell_type": "markdown",
   "id": "737cb836-e66d-4051-8aa0-b0b95e2979c4",
   "metadata": {
    "tags": []
   },
   "source": [
    "## Get Account Data"
   ]
  },
  {
   "cell_type": "code",
   "execution_count": 58,
   "id": "3f28081b-bd19-4734-a63f-7bfcbeeb3a80",
   "metadata": {},
   "outputs": [],
   "source": [
    "all_match_ids = []\n",
    "\n",
    "df_account = pd.DataFrame()\n",
    "df_mmr_data = pd.DataFrame()\n",
    "df_mmr_history = pd.DataFrame()\n",
    "\n",
    "\n",
    "for name, tag in users.items():\n",
    "    \n",
    "    # Accounts Data\n",
    "    response = requests.get(f\"https://api.henrikdev.xyz/valorant/v1/account/{name}/{tag}\")\n",
    "    \n",
    "    with open(f'account/{timestamp}_{name}_{tag}.json', 'w') as f:\n",
    "        json.dump(response.json(), f)\n",
    "        \n",
    "    df_account = pd.concat([df_account, pd.json_normalize(response.json()['data'])])\n",
    "        \n",
    "        \n",
    "    # MMR Data\n",
    "    response = requests.get(f\"https://api.henrikdev.xyz/valorant/v1/mmr/na/{name}/{tag}\")\n",
    "    \n",
    "    with open(f'mmr_data/{timestamp}_{name}_{tag}.json', 'w') as f:\n",
    "        json.dump(response.json(), f)\n",
    "        \n",
    "    df_mmr_data = pd.concat([df_mmr_data, pd.json_normalize(response.json()['data'])])  \n",
    "        \n",
    "    # MMR History\n",
    "    response = requests.get(f\"https://api.henrikdev.xyz/valorant/v1/mmr-history/na/{name}/{tag}\")\n",
    "    \n",
    "    with open(f'mmr_history/{timestamp}_{name}_{tag}.json', 'w') as f:\n",
    "        json.dump(response.json(), f)\n",
    "        \n",
    "        \n",
    "    temp_mmr_history = pd.json_normalize(response.json()['data'])\n",
    "    temp_mmr_history['name'] = response.json()['name']\n",
    "    temp_mmr_history['tag'] = response.json()['tag']\n",
    "    \n",
    "    df_mmr_history = pd.concat([df_mmr_history, temp_mmr_history])\n",
    "    \n",
    "    # Match History\n",
    "    response = requests.get(f\"https://api.henrikdev.xyz/valorant/v3/matches/na/{name}/{tag}?filter=competitive\")\n",
    "    \n",
    "    with open(f'match_history/{timestamp}_{name}_{tag}.json', 'w') as f:\n",
    "        json.dump(response.json(), f)\n",
    "        \n",
    "    # Listing All Match IDs\n",
    "    for i in response.json()['data']:\n",
    "        all_match_ids.append(i['metadata']['matchid'])"
   ]
  },
  {
   "cell_type": "markdown",
   "id": "dc8cd4e9-04b7-48e4-922a-bc3e4f5b3cf7",
   "metadata": {},
   "source": [
    "# Get All Match History"
   ]
  },
  {
   "cell_type": "code",
   "execution_count": 69,
   "id": "4d0a0d8f-111b-47ab-b9df-183daf68c30b",
   "metadata": {},
   "outputs": [],
   "source": [
    "all_match_ids = list(set(all_match_ids))"
   ]
  },
  {
   "cell_type": "code",
   "execution_count": 71,
   "id": "6ce1f110-c485-481a-9a27-e9392691ea54",
   "metadata": {},
   "outputs": [],
   "source": [
    "for matchid in all_match_ids:\n",
    "    \n",
    "    response = requests.get(f\"https://api.henrikdev.xyz/valorant/v2/match/{matchid}\")\n",
    "    \n",
    "    with open(f'match/{matchid}.json', 'w') as f:\n",
    "        json.dump(response.json(), f)"
   ]
  },
  {
   "cell_type": "code",
   "execution_count": null,
   "id": "ca623e45-54e3-4553-8fae-3da05da73a1e",
   "metadata": {},
   "outputs": [],
   "source": []
  },
  {
   "cell_type": "code",
   "execution_count": null,
   "id": "9b574ebd-b9f2-49fa-8564-77751149d23b",
   "metadata": {},
   "outputs": [],
   "source": []
  },
  {
   "cell_type": "code",
   "execution_count": 140,
   "id": "74e12325-f957-4db4-9dcf-93e71dfe7190",
   "metadata": {},
   "outputs": [],
   "source": [
    "response = requests.get(f\"https://api.henrikdev.xyz/valorant/v3/matches/na/{name}/{tag}?filter=competitive\")"
   ]
  },
  {
   "cell_type": "code",
   "execution_count": 143,
   "id": "fe518d5f-a4be-4c10-ba2b-bc762393d2ec",
   "metadata": {},
   "outputs": [
    {
     "data": {
      "text/html": [
       "<div>\n",
       "<style scoped>\n",
       "    .dataframe tbody tr th:only-of-type {\n",
       "        vertical-align: middle;\n",
       "    }\n",
       "\n",
       "    .dataframe tbody tr th {\n",
       "        vertical-align: top;\n",
       "    }\n",
       "\n",
       "    .dataframe thead th {\n",
       "        text-align: right;\n",
       "    }\n",
       "</style>\n",
       "<table border=\"1\" class=\"dataframe\">\n",
       "  <thead>\n",
       "    <tr style=\"text-align: right;\">\n",
       "      <th></th>\n",
       "      <th>metadata</th>\n",
       "      <th>players</th>\n",
       "      <th>teams</th>\n",
       "      <th>rounds</th>\n",
       "      <th>kills</th>\n",
       "    </tr>\n",
       "  </thead>\n",
       "  <tbody>\n",
       "    <tr>\n",
       "      <th>0</th>\n",
       "      <td>{'map': 'Icebox', 'game_version': 'release-06....</td>\n",
       "      <td>{'all_players': [{'puuid': '55e10892-343a-52e1...</td>\n",
       "      <td>{'red': {'has_won': True, 'rounds_won': 13, 'r...</td>\n",
       "      <td>[{'winning_team': 'Blue', 'end_type': 'Elimina...</td>\n",
       "      <td>[{'kill_time_in_round': 28002, 'kill_time_in_m...</td>\n",
       "    </tr>\n",
       "    <tr>\n",
       "      <th>1</th>\n",
       "      <td>{'map': 'Haven', 'game_version': 'release-06.0...</td>\n",
       "      <td>{'all_players': [{'puuid': '6c241ab0-1c2f-5d5b...</td>\n",
       "      <td>{'red': {'has_won': False, 'rounds_won': 8, 'r...</td>\n",
       "      <td>[{'winning_team': 'Blue', 'end_type': 'Elimina...</td>\n",
       "      <td>[{'kill_time_in_round': 20520, 'kill_time_in_m...</td>\n",
       "    </tr>\n",
       "    <tr>\n",
       "      <th>2</th>\n",
       "      <td>{'map': 'Haven', 'game_version': 'release-06.0...</td>\n",
       "      <td>{'all_players': [{'puuid': 'f2f7c867-27ba-5291...</td>\n",
       "      <td>{'red': {'has_won': True, 'rounds_won': 13, 'r...</td>\n",
       "      <td>[{'winning_team': 'Blue', 'end_type': 'Bomb de...</td>\n",
       "      <td>[{'kill_time_in_round': 38108, 'kill_time_in_m...</td>\n",
       "    </tr>\n",
       "    <tr>\n",
       "      <th>3</th>\n",
       "      <td>{'map': 'Lotus', 'game_version': 'release-06.0...</td>\n",
       "      <td>{'all_players': [{'puuid': '35a2368e-586f-53ec...</td>\n",
       "      <td>{'red': {'has_won': True, 'rounds_won': 13, 'r...</td>\n",
       "      <td>[{'winning_team': 'Red', 'end_type': 'Eliminat...</td>\n",
       "      <td>[{'kill_time_in_round': 17162, 'kill_time_in_m...</td>\n",
       "    </tr>\n",
       "    <tr>\n",
       "      <th>4</th>\n",
       "      <td>{'map': 'Split', 'game_version': 'release-06.0...</td>\n",
       "      <td>{'all_players': [{'puuid': 'a21f61a0-56f3-5619...</td>\n",
       "      <td>{'red': {'has_won': False, 'rounds_won': 5, 'r...</td>\n",
       "      <td>[{'winning_team': 'Blue', 'end_type': 'Bomb de...</td>\n",
       "      <td>[{'kill_time_in_round': 8835, 'kill_time_in_ma...</td>\n",
       "    </tr>\n",
       "  </tbody>\n",
       "</table>\n",
       "</div>"
      ],
      "text/plain": [
       "                                            metadata  \\\n",
       "0  {'map': 'Icebox', 'game_version': 'release-06....   \n",
       "1  {'map': 'Haven', 'game_version': 'release-06.0...   \n",
       "2  {'map': 'Haven', 'game_version': 'release-06.0...   \n",
       "3  {'map': 'Lotus', 'game_version': 'release-06.0...   \n",
       "4  {'map': 'Split', 'game_version': 'release-06.0...   \n",
       "\n",
       "                                             players  \\\n",
       "0  {'all_players': [{'puuid': '55e10892-343a-52e1...   \n",
       "1  {'all_players': [{'puuid': '6c241ab0-1c2f-5d5b...   \n",
       "2  {'all_players': [{'puuid': 'f2f7c867-27ba-5291...   \n",
       "3  {'all_players': [{'puuid': '35a2368e-586f-53ec...   \n",
       "4  {'all_players': [{'puuid': 'a21f61a0-56f3-5619...   \n",
       "\n",
       "                                               teams  \\\n",
       "0  {'red': {'has_won': True, 'rounds_won': 13, 'r...   \n",
       "1  {'red': {'has_won': False, 'rounds_won': 8, 'r...   \n",
       "2  {'red': {'has_won': True, 'rounds_won': 13, 'r...   \n",
       "3  {'red': {'has_won': True, 'rounds_won': 13, 'r...   \n",
       "4  {'red': {'has_won': False, 'rounds_won': 5, 'r...   \n",
       "\n",
       "                                              rounds  \\\n",
       "0  [{'winning_team': 'Blue', 'end_type': 'Elimina...   \n",
       "1  [{'winning_team': 'Blue', 'end_type': 'Elimina...   \n",
       "2  [{'winning_team': 'Blue', 'end_type': 'Bomb de...   \n",
       "3  [{'winning_team': 'Red', 'end_type': 'Eliminat...   \n",
       "4  [{'winning_team': 'Blue', 'end_type': 'Bomb de...   \n",
       "\n",
       "                                               kills  \n",
       "0  [{'kill_time_in_round': 28002, 'kill_time_in_m...  \n",
       "1  [{'kill_time_in_round': 20520, 'kill_time_in_m...  \n",
       "2  [{'kill_time_in_round': 38108, 'kill_time_in_m...  \n",
       "3  [{'kill_time_in_round': 17162, 'kill_time_in_m...  \n",
       "4  [{'kill_time_in_round': 8835, 'kill_time_in_ma...  "
      ]
     },
     "execution_count": 143,
     "metadata": {},
     "output_type": "execute_result"
    }
   ],
   "source": [
    "pd.DataFrame(response.json()['data'])"
   ]
  },
  {
   "cell_type": "code",
   "execution_count": null,
   "id": "e3535112-587e-4076-b2ab-4e3a56817fbf",
   "metadata": {},
   "outputs": [],
   "source": []
  },
  {
   "cell_type": "code",
   "execution_count": null,
   "id": "46bf3726-fc72-4022-94e5-fa291b6c73a4",
   "metadata": {},
   "outputs": [],
   "source": []
  },
  {
   "cell_type": "code",
   "execution_count": null,
   "id": "80f469dd-e2b6-467d-a624-347bb74e82fe",
   "metadata": {},
   "outputs": [],
   "source": []
  },
  {
   "cell_type": "code",
   "execution_count": null,
   "id": "2b991184-8f47-434b-88ec-02149e45aa4b",
   "metadata": {},
   "outputs": [],
   "source": []
  },
  {
   "cell_type": "code",
   "execution_count": null,
   "id": "ce7aac9b-89bf-4479-a83c-32653af1d15d",
   "metadata": {},
   "outputs": [],
   "source": []
  }
 ],
 "metadata": {
  "kernelspec": {
   "display_name": "Python 3 (ipykernel)",
   "language": "python",
   "name": "python3"
  },
  "language_info": {
   "codemirror_mode": {
    "name": "ipython",
    "version": 3
   },
   "file_extension": ".py",
   "mimetype": "text/x-python",
   "name": "python",
   "nbconvert_exporter": "python",
   "pygments_lexer": "ipython3",
   "version": "3.9.13"
  }
 },
 "nbformat": 4,
 "nbformat_minor": 5
}
