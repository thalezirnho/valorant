{
 "cells": [
  {
   "cell_type": "markdown",
   "id": "c665a7be-a3f9-407f-8bf2-f9ad679d2b89",
   "metadata": {},
   "source": [
    "# Main"
   ]
  },
  {
   "cell_type": "code",
   "execution_count": 71,
   "id": "0e40465a-1993-412c-a808-1268e9463cbc",
   "metadata": {
    "tags": []
   },
   "outputs": [],
   "source": [
    "import os\n",
    "import json\n",
    "import time\n",
    "import hashlib\n",
    "import requests\n",
    "import pandas as pd\n",
    "import pandas_gbq\n",
    "from datetime import timedelta\n",
    "from google.cloud import storage, bigquery\n",
    "\n",
    "from datetime import datetime"
   ]
  },
  {
   "cell_type": "markdown",
   "id": "8a23428a-785d-4294-83bf-0bdfed723301",
   "metadata": {},
   "source": [
    "## Auth"
   ]
  },
  {
   "cell_type": "code",
   "execution_count": 3,
   "id": "cb3da677-b8f9-4b30-b4cc-0c3b5628a472",
   "metadata": {
    "tags": []
   },
   "outputs": [],
   "source": [
    "path = 'credentials/service_account.json'\n",
    "client = storage.Client.from_service_account_json(path)\n",
    "\n",
    "bucket_name = \"valorant_data\"\n",
    "\n",
    "bucket = client.bucket(bucket_name)\n",
    "\n",
    "client_gbq = bigquery.Client.from_service_account_json(path)\n",
    "os.environ['GOOGLE_APPLICATION_CREDENTIALS'] = os.path.join(path)"
   ]
  },
  {
   "cell_type": "markdown",
   "id": "b2913bd2-14e6-4a3a-b01a-4ad4c1408a32",
   "metadata": {},
   "source": [
    "## Get all Stored Matchs"
   ]
  },
  {
   "cell_type": "code",
   "execution_count": 4,
   "id": "615e4143-fcfb-4296-92fa-841696a9cf5b",
   "metadata": {
    "tags": []
   },
   "outputs": [],
   "source": [
    "folder_name = \"match\"\n",
    "\n",
    "folder = bucket.blob(folder_name)\n",
    "\n",
    "stored_matchs = []\n",
    "\n",
    "# Lista todos os arquivos dentro da pasta\n",
    "for blob in bucket.list_blobs():#prefix=folder_name):\n",
    "    stored_matchs.append(blob.name.replace('match/', '').replace('.json', ''))"
   ]
  },
  {
   "cell_type": "markdown",
   "id": "a0610f31-e6d4-41d3-bda9-401c6b4aa6c4",
   "metadata": {},
   "source": [
    "## Declare execution time"
   ]
  },
  {
   "cell_type": "code",
   "execution_count": 6,
   "id": "3ead9a2e-5d9d-439b-a4e9-fee608bcacd3",
   "metadata": {
    "tags": []
   },
   "outputs": [],
   "source": [
    "date_time = datetime.now()\n",
    "                    \n",
    "if time.tzname[0] == 'UTC':\n",
    "    date_time = date_time - timedelta(hours=3)\n",
    "\n",
    "year = date_time.strftime('%Y')\n",
    "year_month = date_time.strftime('%Y%m')\n",
    "day = date_time.strftime('%d')\n",
    "timestamp = int(date_time.timestamp())\n",
    "dt_extract = date_time.strftime('%Y-%m-%dT%H:%m:%S')\n",
    "\n",
    "date_time = date_time.strftime('%Y%m%d_%H%m%S')"
   ]
  },
  {
   "cell_type": "markdown",
   "id": "2cd76294-9138-48d1-aae0-591f85dab525",
   "metadata": {},
   "source": [
    "## Target Users"
   ]
  },
  {
   "cell_type": "code",
   "execution_count": 7,
   "id": "8920afb6-f6f9-4b8e-b075-66a5947e9dd7",
   "metadata": {
    "tags": []
   },
   "outputs": [],
   "source": [
    "users = {\n",
    "    \"viikset\": \"BR1\",\n",
    "    \"TADALA\": \"TADAL\",\n",
    "    \"DIGAOTJS\": \"BR1\",\n",
    "    \"mBirth\": \"BR1\",\n",
    "    \"Kubata\": \"4881\"\n",
    "}\n",
    "\n",
    "puuids = {\n",
    "    \"viikset\": \"f2f7c867-27ba-5291-a23c-bbdcfc079e76\",\n",
    "    \"TADALA\": \"35a2368e-586f-53ec-8ee8-ea9ebdca7d6f\",\n",
    "    \"DIGAOTJS\": \"2c51a2e4-0dcf-53f5-ae85-cd4d7d79f663\",\n",
    "    \"mBirth\": \"6c241ab0-1c2f-5d5b-8908-4e809df8f6ca\",\n",
    "    \"Kubata\": \"b2310858-1741-5d6f-8499-cb1f85bd182a\"\n",
    "}"
   ]
  },
  {
   "cell_type": "markdown",
   "id": "058a3cbf-8078-438e-b620-0cdc40b75f60",
   "metadata": {},
   "source": [
    "## Layer Input"
   ]
  },
  {
   "cell_type": "code",
   "execution_count": 12,
   "id": "f481e376-9b5f-447c-8f81-0ccfdf4d84d1",
   "metadata": {
    "tags": []
   },
   "outputs": [
    {
     "name": "stdout",
     "output_type": "stream",
     "text": [
      "status code: 200\n",
      "Match 77176f97-6d0c-4ba2-b022-2a20cabc7975 do not exist in storage...\n",
      "Match 30020147-5ab6-4ac9-86d6-497cf873f15b do not exist in storage...\n",
      "Match b25ec6b0-36d1-4918-b283-503a290c2983 do not exist in storage...\n",
      "Match 48a1e6b4-d551-4ca1-98a6-e85081ca0fd1 do not exist in storage...\n",
      "Match 3988d557-de2a-498e-8db2-e4484146a3ba do not exist in storage...\n",
      "status code: 200\n",
      "status code: 200\n",
      "status code: 200\n",
      "Match fa668a51-832d-403b-a94a-13c0d9eaa922 do not exist in storage...\n",
      "Match 9beb3bea-c341-4341-a3d5-d89f5f19f903 do not exist in storage...\n",
      "Match 83ea191d-3670-4bc0-b2ea-83bfd3cf5183 do not exist in storage...\n",
      "Match 188849fd-7f4d-4b21-9ad4-5b00c4e92537 do not exist in storage...\n",
      "Match 0d9063f2-4b7f-4737-8244-4c5e32924dfa do not exist in storage...\n",
      "status code: 200\n",
      "Match 3d1e95f9-7c31-42ce-9f1f-ac5b772551e8 do not exist in storage...\n",
      "Match 23106ddd-5db8-459c-9169-5ba80979ea8a do not exist in storage...\n",
      "Match 88e8a918-2f57-453c-999b-c18e9a8f8ed3 do not exist in storage...\n",
      "Match f7e545ca-2041-4a99-a1e3-517385563cb3 do not exist in storage...\n"
     ]
    }
   ],
   "source": [
    "session_matchs = []\n",
    "\n",
    "for name, tag in users.items():\n",
    "    \n",
    "    # Match History\n",
    "    endpoint = 'matches'\n",
    "    response = requests.get(f\"https://api.henrikdev.xyz/valorant/v3/{endpoint}/na/{name}/{tag}?filter=competitive\")\n",
    "    \n",
    "    if response.status_code != 200:\n",
    "        \n",
    "        error_id = hashlib.md5((dt_extract+name+tag).encode('utf-8')).hexdigest()\n",
    "        df_error = pd.DataFrame([{'id': error_id, 'datatime': dt_extract, 'name': name, 'tag': tag, 'endpoint': endpoint, 'status': response.status_code}])\n",
    "        \n",
    "        df_error['datetime'] = pd.to_datetime(df_error['datetime'])\n",
    "\n",
    "        schema = [\n",
    "            {'name': 'id', 'type': 'STRING'},\n",
    "            {'name': 'datetime', 'type': 'DATETIME'},\n",
    "            {'name': 'name', 'type': 'STRING'},\n",
    "            {'name': 'tag', 'type': 'STRING'},\n",
    "            {'name': 'endpoint', 'type': 'STRING'},\n",
    "            {'name': 'status', 'type': 'INTEGER'}\n",
    "        ]\n",
    "        \n",
    "        df_error.to_gbq(\n",
    "            f'logs_valorant.api_error_logs',\n",
    "            'thales-1615931464192',\n",
    "            if_exists='append',\n",
    "            table_schema=schema\n",
    "        )   \n",
    "        \n",
    "    else:\n",
    "\n",
    "        for match in response.json()['data']:\n",
    "\n",
    "            matchid = match['metadata']['matchid']\n",
    "\n",
    "            if matchid not in stored_matchs and matchid not in session_matchs:\n",
    "                \n",
    "                session_matchs.append(matchid)\n",
    "                session_matchs = list(set(session_matchs))\n",
    "\n",
    "                # Save file\n",
    "                file_name = f'match/{matchid}.json'\n",
    "\n",
    "                with open(f'{file_name}', 'w') as f:\n",
    "                    json.dump(match, f)\n",
    "\n",
    "                blob = bucket.blob(f\"{file_name}\")\n",
    "                blob.upload_from_filename(file_name)"
   ]
  },
  {
   "cell_type": "code",
   "execution_count": 84,
   "id": "2ede7e35-93b0-44d4-a18f-6f42f2ddddca",
   "metadata": {
    "tags": []
   },
   "outputs": [],
   "source": [
    "folder = bucket.blob(folder_name)\n",
    "\n",
    "df_matches = pd.DataFrame()\n",
    "\n",
    "# Lista todos os arquivos dentro da pasta\n",
    "for blob in bucket.list_blobs():#prefix=folder_name):\n",
    "    #matchs_post_run.append(blob.name.replace('match/', '').replace('.json', ''))\n",
    "    df_matches = pd.concat([df_matches, pd.DataFrame([blob.name.replace('match/', '').replace('.json', '')])])\n",
    "\n",
    "df_matches.columns = ['matchid']\n",
    "\n",
    "df_matches['datetime'] = dt_extract\n",
    "\n",
    "df_matches = df_matches[['datetime', 'matchid']]\n",
    "df_matches.reset_index(inplace=True, drop=True)\n",
    "\n",
    "df_matches['datetime'] = pd.to_datetime(df_matches['datetime'])\n",
    "\n",
    "schema = [\n",
    "    {'name': 'datetime', 'type': 'DATETIME'},\n",
    "    {'name': 'matchid', 'type': 'STRING'}\n",
    "]\n",
    "\n",
    "df_matches.to_gbq(\n",
    "    f'logs_valorant.match_in_storage',\n",
    "    'thales-1615931464192',\n",
    "    if_exists='append',\n",
    "    table_schema=schema\n",
    ")   "
   ]
  },
  {
   "cell_type": "code",
   "execution_count": null,
   "id": "2ebfc05d-8a92-4b83-ab07-5e88febcebf1",
   "metadata": {},
   "outputs": [],
   "source": []
  },
  {
   "cell_type": "code",
   "execution_count": null,
   "id": "ed6d8ef6-f7b7-4771-8f28-5333639a9be5",
   "metadata": {},
   "outputs": [],
   "source": []
  },
  {
   "cell_type": "code",
   "execution_count": null,
   "id": "1f36d01c-ab1a-48de-bc66-6067a5ec7aad",
   "metadata": {},
   "outputs": [],
   "source": []
  },
  {
   "cell_type": "markdown",
   "id": "737cb836-e66d-4051-8aa0-b0b95e2979c4",
   "metadata": {
    "tags": []
   },
   "source": [
    "## Get Account Data"
   ]
  },
  {
   "cell_type": "code",
   "execution_count": null,
   "id": "6def189f-a3c6-4722-832d-15a66074f897",
   "metadata": {
    "tags": []
   },
   "outputs": [],
   "source": [
    "all_match_ids = []\n",
    "\n",
    "\n",
    "for name, tag in users.items():\n",
    "    \n",
    "    # Account Data\n",
    "    endpoint = 'account'\n",
    "    response = requests.get(f\"https://api.henrikdev.xyz/valorant/v1/{endpoint}/{name}/{tag}\")\n",
    "    \n",
    "    if response.status_code != 200:\n",
    "        # Add Alert\n",
    "        print('error')\n",
    "    else:\n",
    "        pass\n",
    "    \n",
    "   \n",
    "    with open(f'account/{date_time}_{name}_{tag}.json', 'w') as f:\n",
    "        json.dump(response.json(), f)\n",
    "    \n",
    "    \n",
    "        \n",
    "    # MMR Data\n",
    "    endpoint = 'mmr'\n",
    "    response = requests.get(f\"https://api.henrikdev.xyz/valorant/v1/{endpoint}/na/{name}/{tag}\")\n",
    "    \n",
    "    if response.status_code != 200:\n",
    "        # Add Alert\n",
    "        print('error')\n",
    "    else:\n",
    "        pass\n",
    "    \n",
    "    with open(f'mmr_data/{date_time}_{name}_{tag}.json', 'w') as f:\n",
    "        json.dump(response.json(), f)\n",
    "        \n",
    "        \n",
    "    # MMR History\n",
    "    endpoint = 'mmr-history'\n",
    "    response = requests.get(f\"https://api.henrikdev.xyz/valorant/v1/{endpoint}/na/{name}/{tag}\")\n",
    "    \n",
    "    if response.status_code != 200:\n",
    "        # Add Alert\n",
    "        print('error')\n",
    "    else:\n",
    "        pass\n",
    "    \n",
    "    with open(f'mmr_history/{date_time}_{name}_{tag}.json', 'w') as f:\n",
    "        json.dump(response.json(), f)\n",
    "\n",
    "\n",
    "    # Match History\n",
    "    endpoint = 'matches'\n",
    "    response = requests.get(f\"https://api.henrikdev.xyz/valorant/v3/{endpoint}/na/{name}/{tag}?filter=competitive\")\n",
    "    \n",
    "    if response.status_code != 200:\n",
    "        # Add Alert\n",
    "        print('error')\n",
    "    else:\n",
    "        pass\n",
    "    \n",
    "    with open(f'match_history/{date_time}_{name}_{tag}.json', 'w') as f:\n",
    "        json.dump(response.json(), f)\n",
    "        \n",
    "        \n",
    "    # Listing All Match IDs\n",
    "    metadata = []\n",
    "    for i in response.json()['data']:\n",
    "        all_match_ids.append(i['metadata']['matchid'])\n"
   ]
  },
  {
   "cell_type": "code",
   "execution_count": null,
   "id": "d0b7c1a2-aebf-4b31-9518-4fb1a705feb2",
   "metadata": {},
   "outputs": [],
   "source": []
  },
  {
   "cell_type": "code",
   "execution_count": null,
   "id": "1334c0bd-e8a8-4917-b538-d470742b981f",
   "metadata": {},
   "outputs": [],
   "source": []
  },
  {
   "cell_type": "code",
   "execution_count": null,
   "id": "ba1b9763-c051-47dc-8a54-ec2cd07c4489",
   "metadata": {
    "tags": []
   },
   "outputs": [],
   "source": [
    "all_match_ids = list(set(all_match_ids))"
   ]
  },
  {
   "cell_type": "code",
   "execution_count": null,
   "id": "32c81191-f7e2-49fc-8efa-9aa68c4e2114",
   "metadata": {
    "tags": []
   },
   "outputs": [],
   "source": [
    "all_match_ids = list(set(all_match_ids) - set(stored_matchs))"
   ]
  },
  {
   "cell_type": "code",
   "execution_count": null,
   "id": "7f476934-dfa1-41f7-b90a-ce6229356f85",
   "metadata": {
    "tags": []
   },
   "outputs": [],
   "source": [
    "for matchid in all_match_ids:\n",
    "    \n",
    "    endpoint = 'match'\n",
    "    response = requests.get(f\"https://api.henrikdev.xyz/valorant/v2/{endpoint}/{matchid}\")\n",
    "    \n",
    "    if response.status_code != 200:\n",
    "        # Add Alert\n",
    "        print('error')\n",
    "    else:\n",
    "        pass\n",
    "    \n",
    "    # Save file\n",
    "    file_name = f'{endpoint}/{matchid}.json'\n",
    "    \n",
    "    with open(f'{file_name}', 'w') as f:\n",
    "        json.dump(response.json(), f)\n",
    "        \n",
    "    blob = bucket.blob(f\"{file_name}\")\n",
    "    blob.upload_from_filename(file_name)\n",
    "    "
   ]
  },
  {
   "cell_type": "code",
   "execution_count": null,
   "id": "2ea52025-5a9b-438d-94bb-8bcbc359cb8e",
   "metadata": {},
   "outputs": [],
   "source": []
  },
  {
   "cell_type": "code",
   "execution_count": null,
   "id": "b9c252b5-51b0-4a9f-a89d-cc1076317d22",
   "metadata": {},
   "outputs": [],
   "source": []
  },
  {
   "cell_type": "code",
   "execution_count": null,
   "id": "e7355067-ff04-4ade-bfc0-a4a65aea8c34",
   "metadata": {},
   "outputs": [],
   "source": [
    "endpoint = 'match'\n",
    "response = requests.get(f\"https://api.henrikdev.xyz/valorant/v2/{endpoint}/{matchId}\")"
   ]
  },
  {
   "cell_type": "code",
   "execution_count": null,
   "id": "1ca37ef5-9624-43db-aa0a-586209d4ac2d",
   "metadata": {},
   "outputs": [],
   "source": [
    "json_data = response.json()"
   ]
  },
  {
   "cell_type": "code",
   "execution_count": null,
   "id": "9a63687b-cdb6-4b58-a1d3-17a3d564c350",
   "metadata": {
    "tags": []
   },
   "outputs": [],
   "source": [
    "pd.json_normalize(json_data['metadata'])"
   ]
  },
  {
   "cell_type": "code",
   "execution_count": null,
   "id": "37c51b45-25bd-4bd0-a128-e210a914b70e",
   "metadata": {
    "tags": []
   },
   "outputs": [],
   "source": [
    "pd.DataFrame([json_data['players']['all_players'][0]])"
   ]
  },
  {
   "cell_type": "code",
   "execution_count": null,
   "id": "6e306a46-1134-4de3-b390-c6f31bf222a4",
   "metadata": {},
   "outputs": [],
   "source": []
  },
  {
   "cell_type": "code",
   "execution_count": null,
   "id": "14b27299-5dbd-4b09-bf4e-f126fef34a8f",
   "metadata": {},
   "outputs": [],
   "source": []
  },
  {
   "cell_type": "code",
   "execution_count": null,
   "id": "00effe1b-d85e-4819-9fe6-ae60ecd51ba3",
   "metadata": {},
   "outputs": [],
   "source": []
  },
  {
   "cell_type": "code",
   "execution_count": null,
   "id": "aec9fa44-a791-41f2-b0c7-831ae7c2f19c",
   "metadata": {},
   "outputs": [],
   "source": []
  },
  {
   "cell_type": "code",
   "execution_count": null,
   "id": "a5f3d0ce-ca9e-42a0-b3f5-3ec386582412",
   "metadata": {},
   "outputs": [],
   "source": []
  },
  {
   "cell_type": "code",
   "execution_count": null,
   "id": "3f28081b-bd19-4734-a63f-7bfcbeeb3a80",
   "metadata": {},
   "outputs": [],
   "source": [
    "all_match_ids = []\n",
    "\n",
    "df_account = pd.DataFrame()\n",
    "df_mmr_data = pd.DataFrame()\n",
    "df_mmr_history = pd.DataFrame()\n",
    "df_matchs = pd.DataFrame()\n",
    "\n",
    "\n",
    "for name, tag in users.items():\n",
    "    \n",
    "    print(f'Get data for {name}...')\n",
    "    \n",
    "    # Accounts Data\n",
    "    #print(f'Get account data for {name}...')\n",
    "    response = requests.get(f\"https://api.henrikdev.xyz/valorant/v1/account/{name}/{tag}\")\n",
    "    \n",
    "    with open(f'account/{timestamp}_{name}_{tag}.json', 'w') as f:\n",
    "        json.dump(response.json(), f)\n",
    "        \n",
    "    df_account = pd.concat([df_account, pd.json_normalize(response.json()['data'])])\n",
    "        \n",
    "        \n",
    "    # MMR Data\n",
    "    #print(f'Get MMR data for {name}...')\n",
    "    response = requests.get(f\"https://api.henrikdev.xyz/valorant/v1/mmr/na/{name}/{tag}\")\n",
    "    \n",
    "    with open(f'mmr_data/{timestamp}_{name}_{tag}.json', 'w') as f:\n",
    "        json.dump(response.json(), f)\n",
    "        \n",
    "    df_mmr_data = pd.concat([df_mmr_data, pd.json_normalize(response.json()['data'])])  \n",
    "        \n",
    "    # MMR History\n",
    "    #print(f'Get MMR History data for {name}...')\n",
    "    response = requests.get(f\"https://api.henrikdev.xyz/valorant/v1/mmr-history/na/{name}/{tag}\")\n",
    "    \n",
    "    with open(f'mmr_history/{timestamp}_{name}_{tag}.json', 'w') as f:\n",
    "        json.dump(response.json(), f)\n",
    "        \n",
    "        \n",
    "    temp_mmr_history = pd.json_normalize(response.json()['data'])\n",
    "    temp_mmr_history['name'] = response.json()['name']\n",
    "    temp_mmr_history['tag'] = response.json()['tag']\n",
    "    \n",
    "    df_mmr_history = pd.concat([df_mmr_history, temp_mmr_history])\n",
    "    \n",
    "    # Match History\n",
    "    #print(f'Get Match History data for {name}...')\n",
    "    response = requests.get(f\"https://api.henrikdev.xyz/valorant/v3/matches/na/{name}/{tag}?filter=competitive\")\n",
    "    \n",
    "    with open(f'match_history/{timestamp}_{name}_{tag}.json', 'w') as f:\n",
    "        json.dump(response.json(), f)\n",
    "        \n",
    "    # Listing All Match IDs\n",
    "    metadata = []\n",
    "    for i in response.json()['data']:\n",
    "        all_match_ids.append(i['metadata']['matchid'])\n",
    "        \n",
    "        metadata.append(i['metadata'])\n",
    "        \n",
    "    df_matchs = pd.concat([df_matchs, pd.DataFrame(metadata)])\n",
    "    \n",
    "    print('\\n')\n",
    "\n",
    "df_account['datetime'] = datetime\n",
    "df_mmr_data['datetime'] = datetime"
   ]
  },
  {
   "cell_type": "markdown",
   "id": "dc8cd4e9-04b7-48e4-922a-bc3e4f5b3cf7",
   "metadata": {
    "tags": []
   },
   "source": [
    "# Get All Match History"
   ]
  },
  {
   "cell_type": "code",
   "execution_count": null,
   "id": "4d0a0d8f-111b-47ab-b9df-183daf68c30b",
   "metadata": {},
   "outputs": [],
   "source": [
    "all_match_ids = list(set(all_match_ids))"
   ]
  },
  {
   "cell_type": "code",
   "execution_count": null,
   "id": "6ce1f110-c485-481a-9a27-e9392691ea54",
   "metadata": {},
   "outputs": [],
   "source": [
    "metadata = []\n",
    "rounds = []\n",
    "kills = []\n",
    "\n",
    "# Players Dataframes\n",
    "session_playtime = pd.DataFrame()\n",
    "behavior = pd.DataFrame()\n",
    "platform = pd.DataFrame()\n",
    "ability_casts = pd.DataFrame()\n",
    "assets = pd.DataFrame()\n",
    "stats = pd.DataFrame()\n",
    "economy = pd.DataFrame()\n",
    "player = pd.DataFrame()\n",
    "\n",
    "\n",
    "df_players = pd.DataFrame()\n",
    "df_teams = pd.DataFrame()\n",
    "\n",
    "for matchid in all_match_ids:\n",
    "    \n",
    "    # Request\n",
    "    response = requests.get(f\"https://api.henrikdev.xyz/valorant/v2/match/{matchid}\")\n",
    "    \n",
    "    # Save file\n",
    "    with open(f'match/{matchid}.json', 'w') as f:\n",
    "        json.dump(response.json(), f)\n",
    "        \n",
    "    #match = response.json()['data']\n",
    "    #    \n",
    "    ## Match Metadata    \n",
    "    #metadata.append(match['metadata'])\n",
    "    #\n",
    "    ## Match Players\n",
    "    #json_players = match['players']['all_players'].copy()\n",
    "#\n",
    "    #for player in json_players:\n",
    "#\n",
    "    #    puuid = player['puuid']\n",
    "#\n",
    "    #    temp_session_playtime = player.pop('session_playtime')\n",
    "    #    temp_session_playtime = pd.json_normalize(temp_session_playtime)\n",
    "    #    temp_session_playtime['matchid'] = matchid\n",
    "    #    temp_session_playtime['puuid'] = puuid\n",
    "    #    session_playtime = pd.concat([session_playtime, temp_session_playtime])\n",
    "#\n",
    "    #    temp_behavior = player.pop('behavior') \n",
    "    #    temp_behavior = pd.json_normalize(temp_behavior)\n",
    "    #    temp_behavior['matchid'] = matchid\n",
    "    #    temp_behavior['puuid'] = puuid\n",
    "    #    behavior = pd.concat([behavior, temp_behavior])\n",
    "#\n",
    "    #    temp_platform = player.pop('platform')\n",
    "    #    temp_platform = pd.json_normalize(temp_platform)\n",
    "    #    temp_platform['matchid'] = matchid\n",
    "    #    temp_platform['puuid'] = puuid\n",
    "    #    platform = pd.concat([platform, temp_platform])\n",
    "#\n",
    "    #    temp_ability_casts = player.pop('ability_casts')\n",
    "    #    temp_ability_casts = pd.json_normalize(temp_ability_casts)\n",
    "    #    temp_ability_casts['matchid'] = matchid\n",
    "    #    temp_ability_casts['puuid'] = puuid\n",
    "    #    ability_casts = pd.concat([ability_casts, temp_ability_casts])\n",
    "    #    \n",
    "    #    temp_assets = player.pop('assets')\n",
    "    #    temp_assets = pd.json_normalize(temp_assets)\n",
    "    #    temp_assets['matchid'] = matchid\n",
    "    #    temp_assets['puuid'] = puuid\n",
    "    #    assets = pd.concat([assets, temp_assets])\n",
    "#\n",
    "    #    temp_stats = player.pop('stats')\n",
    "    #    temp_stats = pd.json_normalize(statstemp_stats\n",
    "    #    temp_stats['matchid'] = matchid\n",
    "    #    temp_stats['puuid'] = puuid\n",
    "    #    stats = pd.concat([stats, temp_stats])\n",
    "#\n",
    "    #    temp_economy = player.pop('economy')\n",
    "    #    temp_economy = pd.json_normalize(temp_economy)\n",
    "    #    temp_economy['matchid'] = matchid\n",
    "    #    temp_economy['puuid'] = puuid\n",
    "    #    economy = pd.concat([economy, temp_economy])\n",
    "    #                                   \n",
    "    #    temp_player = pd.json_normalize(pltemp_playerayer)\n",
    "    #    temp_player['matchid'] = matchid\n",
    "    #    player = pd.concat([player, temp_player])\n",
    "    #\n",
    "    ## Match Teams\n",
    "    #temp_teams = pd.json_normalize(match['teams'])\n",
    "    #temp_teams['matchid'] = matchid\n",
    "    #df_teams = pd.concat([df_teams, temp_teams])\n",
    "    #\n",
    "    #\n",
    "    #rounds.append(match['rounds'])\n",
    "    #\n",
    "    #\n",
    "    #kills.append(match['kills'])\n",
    "    #    \n",
    "    ##break\n",
    "    #\n",
    "#df_metadata = pd.DataFrame(metadata)\n"
   ]
  },
  {
   "cell_type": "code",
   "execution_count": null,
   "id": "3e298cc7-90d9-4504-993a-292ff91310af",
   "metadata": {},
   "outputs": [],
   "source": [
    "match = response.json()['data']\n",
    "\n",
    "json_rounds = match['rounds'].copy()\n",
    "\n",
    "plant_events = pd.DataFrame()\n",
    "\n",
    "count = 1\n",
    "\n",
    "for row_round in json_rounds:\n",
    "    \n",
    "    # Plant Events\n",
    "    plant_events = row_round.pop('plant_events')\n",
    "    player_locations_on_plant = plant_events.pop('player_locations_on_plant')\n",
    "    \n",
    "    plant_events = pd.json_normalize(plant_events)\n",
    "    plant_events['matchid'] = matchid\n",
    "    plant_events['round'] = count\n",
    "    \n",
    "    player_locations_on_plant = pd.json_normalize(player_locations_on_plant)\n",
    "    player_locations_on_plant['matchid'] = matchid\n",
    "    player_locations_on_plant['round'] = count\n",
    "    \n",
    "    # Defuse Events\n",
    "    defuse_events = row_round.pop('defuse_events')\n",
    "    player_locations_on_defuse = defuse_events.pop('player_locations_on_defuse')\n",
    "    \n",
    "    defuse_events = pd.json_normalize(defuse_events)\n",
    "    defuse_events['matchid'] = matchid\n",
    "    defuse_events['round'] = count\n",
    "\n",
    "    player_locations_on_defuse = pd.json_normalize(player_locations_on_defuse)\n",
    "    player_locations_on_defuse['matchid'] = matchid\n",
    "    player_locations_on_defuse['round'] = count\n",
    "    \n",
    "    # Player Stats\n",
    "    player_stats = row_round.pop('player_stats')\n",
    "    \n",
    "    for plyr in player_stats:\n",
    "        \n",
    "    \n",
    "    count += 1\n",
    "    break\n",
    "    \n",
    "    "
   ]
  },
  {
   "cell_type": "code",
   "execution_count": null,
   "id": "89e928ab-0e34-48ab-adaa-0e33d3295695",
   "metadata": {},
   "outputs": [],
   "source": [
    "for plyr in player_stats:\n",
    "        break"
   ]
  },
  {
   "cell_type": "code",
   "execution_count": null,
   "id": "5d798070-8d1d-41b8-85e7-929dd2077da9",
   "metadata": {},
   "outputs": [],
   "source": [
    "plyr.keys()"
   ]
  },
  {
   "cell_type": "code",
   "execution_count": null,
   "id": "8bd76697-6ca3-4f10-84b7-487a2311129f",
   "metadata": {},
   "outputs": [],
   "source": [
    "plyr['stayed_in_spawn']"
   ]
  },
  {
   "cell_type": "code",
   "execution_count": null,
   "id": "ace97ee9-c203-4a8f-856e-80485c785481",
   "metadata": {},
   "outputs": [],
   "source": [
    "pd.json_normalize(plyr['damage_events'])"
   ]
  },
  {
   "cell_type": "code",
   "execution_count": null,
   "id": "5aaf8648-3166-4c10-84a3-4bd5e6293a21",
   "metadata": {},
   "outputs": [],
   "source": []
  },
  {
   "cell_type": "code",
   "execution_count": null,
   "id": "34eee6f2-4c39-4948-8145-55dd0ba152e0",
   "metadata": {},
   "outputs": [],
   "source": []
  },
  {
   "cell_type": "code",
   "execution_count": null,
   "id": "b7e2c788-3487-4a63-822b-19fe47f7879d",
   "metadata": {},
   "outputs": [],
   "source": []
  },
  {
   "cell_type": "code",
   "execution_count": null,
   "id": "ae671087-9ca0-41cd-8d90-1e59cbba82ac",
   "metadata": {},
   "outputs": [],
   "source": []
  },
  {
   "cell_type": "code",
   "execution_count": null,
   "id": "02051dd1-b3e6-4499-9c0f-cc2b280c1941",
   "metadata": {},
   "outputs": [],
   "source": []
  },
  {
   "cell_type": "code",
   "execution_count": null,
   "id": "f26f8057-7ef6-44fc-bf28-980ae9deae8e",
   "metadata": {},
   "outputs": [],
   "source": []
  },
  {
   "cell_type": "code",
   "execution_count": null,
   "id": "dcd7e090-6596-4bdf-b2a7-493c619b9cfd",
   "metadata": {},
   "outputs": [],
   "source": []
  },
  {
   "cell_type": "code",
   "execution_count": null,
   "id": "8e00b9a3-7594-4765-a367-350a3aa3d906",
   "metadata": {},
   "outputs": [],
   "source": []
  },
  {
   "cell_type": "code",
   "execution_count": null,
   "id": "c4dc7bf5-9edf-4b1a-ae7f-dbcfa8057b16",
   "metadata": {},
   "outputs": [],
   "source": []
  },
  {
   "cell_type": "code",
   "execution_count": null,
   "id": "91f8a83a-86a7-4fed-8fe7-32361871d87c",
   "metadata": {},
   "outputs": [],
   "source": []
  },
  {
   "cell_type": "code",
   "execution_count": null,
   "id": "ee5818de-90c1-4867-81cc-9f811ad8339e",
   "metadata": {},
   "outputs": [],
   "source": []
  },
  {
   "cell_type": "code",
   "execution_count": null,
   "id": "93f8e61c-5801-406e-b3d2-6b46c04d1be8",
   "metadata": {},
   "outputs": [],
   "source": []
  }
 ],
 "metadata": {
  "kernelspec": {
   "display_name": "Python 3 (ipykernel)",
   "language": "python",
   "name": "python3"
  },
  "language_info": {
   "codemirror_mode": {
    "name": "ipython",
    "version": 3
   },
   "file_extension": ".py",
   "mimetype": "text/x-python",
   "name": "python",
   "nbconvert_exporter": "python",
   "pygments_lexer": "ipython3",
   "version": "3.10.10"
  }
 },
 "nbformat": 4,
 "nbformat_minor": 5
}
